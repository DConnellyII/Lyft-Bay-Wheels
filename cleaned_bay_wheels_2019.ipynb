{
 "cells": [
  {
   "cell_type": "code",
   "execution_count": 1,
   "id": "098e026c",
   "metadata": {},
   "outputs": [],
   "source": [
    "# Import dependencies\n",
    "\n",
    "import pandas as pd"
   ]
  },
  {
   "cell_type": "code",
   "execution_count": 2,
   "id": "a26d15cc",
   "metadata": {},
   "outputs": [],
   "source": [
    "# Get all CSV's\n",
    "\n",
    "jan_2019_bike_data = \"2019 - 01.csv\"\n",
    "feb_2019_bike_data = \"2019 - 02.csv\"\n",
    "mar_2019_bike_data = \"2019 - 03.csv\"\n",
    "apr_2019_bike_data = \"2019 - 04.csv\"\n",
    "may_2019_bike_data = \"2019 - 05.csv\""
   ]
  },
  {
   "cell_type": "code",
   "execution_count": 3,
   "id": "2f14beb9",
   "metadata": {},
   "outputs": [],
   "source": [
    "# Create a list of files\n",
    "\n",
    "bike_data = [jan_2019_bike_data,\n",
    "             feb_2019_bike_data,\n",
    "             mar_2019_bike_data,\n",
    "             apr_2019_bike_data,\n",
    "             may_2019_bike_data]"
   ]
  },
  {
   "cell_type": "code",
   "execution_count": 4,
   "id": "377e5eb3",
   "metadata": {
    "scrolled": true
   },
   "outputs": [
    {
     "data": {
      "text/html": [
       "<div>\n",
       "<style scoped>\n",
       "    .dataframe tbody tr th:only-of-type {\n",
       "        vertical-align: middle;\n",
       "    }\n",
       "\n",
       "    .dataframe tbody tr th {\n",
       "        vertical-align: top;\n",
       "    }\n",
       "\n",
       "    .dataframe thead th {\n",
       "        text-align: right;\n",
       "    }\n",
       "</style>\n",
       "<table border=\"1\" class=\"dataframe\">\n",
       "  <thead>\n",
       "    <tr style=\"text-align: right;\">\n",
       "      <th></th>\n",
       "      <th>month</th>\n",
       "      <th>trip_duration_sec</th>\n",
       "      <th>start_station_id</th>\n",
       "      <th>start_station_name</th>\n",
       "      <th>end_station_id</th>\n",
       "      <th>end_station_name</th>\n",
       "      <th>bike_id</th>\n",
       "      <th>user_type</th>\n",
       "      <th>member_birth_year</th>\n",
       "      <th>member_gender</th>\n",
       "    </tr>\n",
       "  </thead>\n",
       "  <tbody>\n",
       "    <tr>\n",
       "      <th>0</th>\n",
       "      <td>January</td>\n",
       "      <td>80825</td>\n",
       "      <td>229.0</td>\n",
       "      <td>Foothill Blvd at 42nd Ave</td>\n",
       "      <td>196.0</td>\n",
       "      <td>Grand Ave at Perkins St</td>\n",
       "      <td>4861</td>\n",
       "      <td>Subscriber</td>\n",
       "      <td>1989.0</td>\n",
       "      <td>Male</td>\n",
       "    </tr>\n",
       "    <tr>\n",
       "      <th>1</th>\n",
       "      <td>January</td>\n",
       "      <td>65900</td>\n",
       "      <td>4.0</td>\n",
       "      <td>Cyril Magnin St at Ellis St</td>\n",
       "      <td>134.0</td>\n",
       "      <td>Valencia St at 24th St</td>\n",
       "      <td>5506</td>\n",
       "      <td>Subscriber</td>\n",
       "      <td>1989.0</td>\n",
       "      <td>Male</td>\n",
       "    </tr>\n",
       "    <tr>\n",
       "      <th>2</th>\n",
       "      <td>January</td>\n",
       "      <td>62633</td>\n",
       "      <td>245.0</td>\n",
       "      <td>Downtown Berkeley BART</td>\n",
       "      <td>157.0</td>\n",
       "      <td>65th St at Hollis St</td>\n",
       "      <td>2717</td>\n",
       "      <td>Customer</td>\n",
       "      <td>1965.0</td>\n",
       "      <td>Female</td>\n",
       "    </tr>\n",
       "    <tr>\n",
       "      <th>3</th>\n",
       "      <td>January</td>\n",
       "      <td>44680</td>\n",
       "      <td>85.0</td>\n",
       "      <td>Church St at Duboce Ave</td>\n",
       "      <td>53.0</td>\n",
       "      <td>Grove St at Divisadero</td>\n",
       "      <td>4557</td>\n",
       "      <td>Customer</td>\n",
       "      <td>1974.0</td>\n",
       "      <td>Male</td>\n",
       "    </tr>\n",
       "    <tr>\n",
       "      <th>4</th>\n",
       "      <td>January</td>\n",
       "      <td>60709</td>\n",
       "      <td>16.0</td>\n",
       "      <td>Steuart St at Market St</td>\n",
       "      <td>28.0</td>\n",
       "      <td>The Embarcadero at Bryant St</td>\n",
       "      <td>2100</td>\n",
       "      <td>Customer</td>\n",
       "      <td>NaN</td>\n",
       "      <td>NaN</td>\n",
       "    </tr>\n",
       "  </tbody>\n",
       "</table>\n",
       "</div>"
      ],
      "text/plain": [
       "     month  trip_duration_sec  start_station_id           start_station_name  \\\n",
       "0  January              80825             229.0    Foothill Blvd at 42nd Ave   \n",
       "1  January              65900               4.0  Cyril Magnin St at Ellis St   \n",
       "2  January              62633             245.0       Downtown Berkeley BART   \n",
       "3  January              44680              85.0      Church St at Duboce Ave   \n",
       "4  January              60709              16.0      Steuart St at Market St   \n",
       "\n",
       "   end_station_id              end_station_name  bike_id   user_type  \\\n",
       "0           196.0       Grand Ave at Perkins St     4861  Subscriber   \n",
       "1           134.0        Valencia St at 24th St     5506  Subscriber   \n",
       "2           157.0          65th St at Hollis St     2717    Customer   \n",
       "3            53.0        Grove St at Divisadero     4557    Customer   \n",
       "4            28.0  The Embarcadero at Bryant St     2100    Customer   \n",
       "\n",
       "   member_birth_year member_gender  \n",
       "0             1989.0          Male  \n",
       "1             1989.0          Male  \n",
       "2             1965.0        Female  \n",
       "3             1974.0          Male  \n",
       "4                NaN           NaN  "
      ]
     },
     "execution_count": 4,
     "metadata": {},
     "output_type": "execute_result"
    }
   ],
   "source": [
    "# Combine all bike data into a dataframe\n",
    "\n",
    "df = pd.concat((pd.read_csv(bike, header = 0) for bike in bike_data))\n",
    "df.head()"
   ]
  },
  {
   "cell_type": "code",
   "execution_count": 5,
   "id": "9aea25fe",
   "metadata": {},
   "outputs": [
    {
     "data": {
      "text/plain": [
       "(1053067, 10)"
      ]
     },
     "execution_count": 5,
     "metadata": {},
     "output_type": "execute_result"
    }
   ],
   "source": [
    "# Check number of rows and columns\n",
    "\n",
    "df.shape"
   ]
  },
  {
   "cell_type": "code",
   "execution_count": 6,
   "id": "1ba169c7",
   "metadata": {},
   "outputs": [
    {
     "data": {
      "text/plain": [
       "Index(['month', 'trip_duration_sec', 'start_station_id', 'start_station_name',\n",
       "       'end_station_id', 'end_station_name', 'bike_id', 'user_type',\n",
       "       'member_birth_year', 'member_gender'],\n",
       "      dtype='object')"
      ]
     },
     "execution_count": 6,
     "metadata": {},
     "output_type": "execute_result"
    }
   ],
   "source": [
    "# Check column names\n",
    "\n",
    "df.columns"
   ]
  },
  {
   "cell_type": "code",
   "execution_count": 7,
   "id": "948da5e3",
   "metadata": {},
   "outputs": [],
   "source": [
    "# Overwrite column with replaced value for month\n",
    "\n",
    "df[\"month\"] = df[\"month\"].replace(\"Februrary\", \"February\")"
   ]
  },
  {
   "cell_type": "code",
   "execution_count": 8,
   "id": "6072facd",
   "metadata": {},
   "outputs": [
    {
     "data": {
      "text/plain": [
       "month                     0\n",
       "trip_duration_sec         0\n",
       "start_station_id        745\n",
       "start_station_name      745\n",
       "end_station_id          745\n",
       "end_station_name        745\n",
       "bike_id                   0\n",
       "user_type                 0\n",
       "member_birth_year     49376\n",
       "member_gender         49370\n",
       "dtype: int64"
      ]
     },
     "execution_count": 8,
     "metadata": {},
     "output_type": "execute_result"
    }
   ],
   "source": [
    "# Check for null values\n",
    "\n",
    "df.isnull().sum()"
   ]
  },
  {
   "cell_type": "code",
   "execution_count": 9,
   "id": "7d9e75a1",
   "metadata": {},
   "outputs": [
    {
     "data": {
      "text/html": [
       "<div>\n",
       "<style scoped>\n",
       "    .dataframe tbody tr th:only-of-type {\n",
       "        vertical-align: middle;\n",
       "    }\n",
       "\n",
       "    .dataframe tbody tr th {\n",
       "        vertical-align: top;\n",
       "    }\n",
       "\n",
       "    .dataframe thead th {\n",
       "        text-align: right;\n",
       "    }\n",
       "</style>\n",
       "<table border=\"1\" class=\"dataframe\">\n",
       "  <thead>\n",
       "    <tr style=\"text-align: right;\">\n",
       "      <th></th>\n",
       "      <th>month</th>\n",
       "      <th>trip_duration_sec</th>\n",
       "      <th>start_station_id</th>\n",
       "      <th>start_station_name</th>\n",
       "      <th>end_station_id</th>\n",
       "      <th>end_station_name</th>\n",
       "      <th>bike_id</th>\n",
       "      <th>user_type</th>\n",
       "      <th>member_birth_year</th>\n",
       "      <th>member_gender</th>\n",
       "    </tr>\n",
       "  </thead>\n",
       "  <tbody>\n",
       "    <tr>\n",
       "      <th>0</th>\n",
       "      <td>January</td>\n",
       "      <td>80825</td>\n",
       "      <td>229.0</td>\n",
       "      <td>Foothill Blvd at 42nd Ave</td>\n",
       "      <td>196.0</td>\n",
       "      <td>Grand Ave at Perkins St</td>\n",
       "      <td>4861</td>\n",
       "      <td>Subscriber</td>\n",
       "      <td>1989.0</td>\n",
       "      <td>Male</td>\n",
       "    </tr>\n",
       "    <tr>\n",
       "      <th>1</th>\n",
       "      <td>January</td>\n",
       "      <td>65900</td>\n",
       "      <td>4.0</td>\n",
       "      <td>Cyril Magnin St at Ellis St</td>\n",
       "      <td>134.0</td>\n",
       "      <td>Valencia St at 24th St</td>\n",
       "      <td>5506</td>\n",
       "      <td>Subscriber</td>\n",
       "      <td>1989.0</td>\n",
       "      <td>Male</td>\n",
       "    </tr>\n",
       "    <tr>\n",
       "      <th>2</th>\n",
       "      <td>January</td>\n",
       "      <td>62633</td>\n",
       "      <td>245.0</td>\n",
       "      <td>Downtown Berkeley BART</td>\n",
       "      <td>157.0</td>\n",
       "      <td>65th St at Hollis St</td>\n",
       "      <td>2717</td>\n",
       "      <td>Customer</td>\n",
       "      <td>1965.0</td>\n",
       "      <td>Female</td>\n",
       "    </tr>\n",
       "    <tr>\n",
       "      <th>3</th>\n",
       "      <td>January</td>\n",
       "      <td>44680</td>\n",
       "      <td>85.0</td>\n",
       "      <td>Church St at Duboce Ave</td>\n",
       "      <td>53.0</td>\n",
       "      <td>Grove St at Divisadero</td>\n",
       "      <td>4557</td>\n",
       "      <td>Customer</td>\n",
       "      <td>1974.0</td>\n",
       "      <td>Male</td>\n",
       "    </tr>\n",
       "    <tr>\n",
       "      <th>5</th>\n",
       "      <td>January</td>\n",
       "      <td>6733</td>\n",
       "      <td>245.0</td>\n",
       "      <td>Downtown Berkeley BART</td>\n",
       "      <td>266.0</td>\n",
       "      <td>Parker St at Fulton St</td>\n",
       "      <td>3532</td>\n",
       "      <td>Subscriber</td>\n",
       "      <td>1994.0</td>\n",
       "      <td>Male</td>\n",
       "    </tr>\n",
       "  </tbody>\n",
       "</table>\n",
       "</div>"
      ],
      "text/plain": [
       "     month  trip_duration_sec  start_station_id           start_station_name  \\\n",
       "0  January              80825             229.0    Foothill Blvd at 42nd Ave   \n",
       "1  January              65900               4.0  Cyril Magnin St at Ellis St   \n",
       "2  January              62633             245.0       Downtown Berkeley BART   \n",
       "3  January              44680              85.0      Church St at Duboce Ave   \n",
       "5  January               6733             245.0       Downtown Berkeley BART   \n",
       "\n",
       "   end_station_id         end_station_name  bike_id   user_type  \\\n",
       "0           196.0  Grand Ave at Perkins St     4861  Subscriber   \n",
       "1           134.0   Valencia St at 24th St     5506  Subscriber   \n",
       "2           157.0     65th St at Hollis St     2717    Customer   \n",
       "3            53.0   Grove St at Divisadero     4557    Customer   \n",
       "5           266.0   Parker St at Fulton St     3532  Subscriber   \n",
       "\n",
       "   member_birth_year member_gender  \n",
       "0             1989.0          Male  \n",
       "1             1989.0          Male  \n",
       "2             1965.0        Female  \n",
       "3             1974.0          Male  \n",
       "5             1994.0          Male  "
      ]
     },
     "execution_count": 9,
     "metadata": {},
     "output_type": "execute_result"
    }
   ],
   "source": [
    "# Drop null values\n",
    "\n",
    "nan_value = float(\"NaN\")\n",
    "df.replace(\"\", nan_value, inplace = True)\n",
    "df.dropna(subset = [\"start_station_id\", \"start_station_name\", \"end_station_id\", \"end_station_name\", \"member_birth_year\", \"member_gender\"], inplace=True)\n",
    "df.head()"
   ]
  },
  {
   "cell_type": "code",
   "execution_count": 10,
   "id": "0f4752b8",
   "metadata": {},
   "outputs": [
    {
     "data": {
      "text/plain": [
       "month                 0\n",
       "trip_duration_sec     0\n",
       "start_station_id      0\n",
       "start_station_name    0\n",
       "end_station_id        0\n",
       "end_station_name      0\n",
       "bike_id               0\n",
       "user_type             0\n",
       "member_birth_year     0\n",
       "member_gender         0\n",
       "dtype: int64"
      ]
     },
     "execution_count": 10,
     "metadata": {},
     "output_type": "execute_result"
    }
   ],
   "source": [
    "# Check for null values again\n",
    "\n",
    "df.isnull().sum()"
   ]
  },
  {
   "cell_type": "code",
   "execution_count": 11,
   "id": "cd10d385",
   "metadata": {},
   "outputs": [
    {
     "data": {
      "text/plain": [
       "month                  object\n",
       "trip_duration_sec       int64\n",
       "start_station_id      float64\n",
       "start_station_name     object\n",
       "end_station_id        float64\n",
       "end_station_name       object\n",
       "bike_id                 int64\n",
       "user_type              object\n",
       "member_birth_year     float64\n",
       "member_gender          object\n",
       "dtype: object"
      ]
     },
     "execution_count": 11,
     "metadata": {},
     "output_type": "execute_result"
    }
   ],
   "source": [
    "# Check datatypes\n",
    "\n",
    "df.dtypes"
   ]
  },
  {
   "cell_type": "code",
   "execution_count": 12,
   "id": "ef729af7",
   "metadata": {},
   "outputs": [
    {
     "data": {
      "text/plain": [
       "month                 object\n",
       "trip_duration_sec      int32\n",
       "start_station_id       int32\n",
       "start_station_name    object\n",
       "end_station_id         int32\n",
       "end_station_name      object\n",
       "bike_id                int32\n",
       "user_type             object\n",
       "member_birth_year      int32\n",
       "member_gender         object\n",
       "dtype: object"
      ]
     },
     "execution_count": 12,
     "metadata": {},
     "output_type": "execute_result"
    }
   ],
   "source": [
    "# Change Float to Int and check datatypes again\n",
    "\n",
    "df.trip_duration_sec  = df.trip_duration_sec .astype(int)\n",
    "df.start_station_id = df.start_station_id.astype(int)\n",
    "df.end_station_id = df.end_station_id.astype(int)\n",
    "df.bike_id = df.bike_id.astype(int)\n",
    "df.member_birth_year = df.member_birth_year.astype(int)\n",
    "\n",
    "df.dtypes"
   ]
  },
  {
   "cell_type": "code",
   "execution_count": 13,
   "id": "67b80eb5",
   "metadata": {},
   "outputs": [],
   "source": [
    "# Export merged data to CSV\n",
    "\n",
    "df.to_csv(\"cleaned_bay_wheels_2019.csv\", index=False)"
   ]
  }
 ],
 "metadata": {
  "kernelspec": {
   "display_name": "Python 3 (ipykernel)",
   "language": "python",
   "name": "python3"
  },
  "language_info": {
   "codemirror_mode": {
    "name": "ipython",
    "version": 3
   },
   "file_extension": ".py",
   "mimetype": "text/x-python",
   "name": "python",
   "nbconvert_exporter": "python",
   "pygments_lexer": "ipython3",
   "version": "3.9.7"
  }
 },
 "nbformat": 4,
 "nbformat_minor": 5
}
