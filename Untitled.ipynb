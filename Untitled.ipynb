{
 "cells": [
  {
   "cell_type": "code",
   "execution_count": 1,
   "id": "9e91a7c7",
   "metadata": {},
   "outputs": [],
   "source": [
    "# Import dependencies\n",
    "\n",
    "import pandas as pd"
   ]
  },
  {
   "cell_type": "code",
   "execution_count": 2,
   "id": "88951ddc",
   "metadata": {},
   "outputs": [],
   "source": [
    "# Get all CSV's\n",
    "\n",
    "jan_2019_bike_data = \"2019 - 01.csv\"\n",
    "feb_2019_bike_data = \"2019 - 02.csv\"\n",
    "mar_2019_bike_data = \"2019 - 03.csv\"\n",
    "apr_2019_bike_data = \"2019 - 04.csv\"\n",
    "may_2019_bike_data = \"2019 - 05.csv\""
   ]
  },
  {
   "cell_type": "code",
   "execution_count": 3,
   "id": "540ea23c",
   "metadata": {},
   "outputs": [],
   "source": [
    "# Create a list of files\n",
    "\n",
    "bike_data = [jan_2019_bike_data,\n",
    "             feb_2019_bike_data,\n",
    "             mar_2019_bike_data,\n",
    "             apr_2019_bike_data,\n",
    "             may_2019_bike_data]"
   ]
  },
  {
   "cell_type": "code",
   "execution_count": 4,
   "id": "66a63414",
   "metadata": {},
   "outputs": [
    {
     "data": {
      "text/html": [
       "<div>\n",
       "<style scoped>\n",
       "    .dataframe tbody tr th:only-of-type {\n",
       "        vertical-align: middle;\n",
       "    }\n",
       "\n",
       "    .dataframe tbody tr th {\n",
       "        vertical-align: top;\n",
       "    }\n",
       "\n",
       "    .dataframe thead th {\n",
       "        text-align: right;\n",
       "    }\n",
       "</style>\n",
       "<table border=\"1\" class=\"dataframe\">\n",
       "  <thead>\n",
       "    <tr style=\"text-align: right;\">\n",
       "      <th></th>\n",
       "      <th>bike_id</th>\n",
       "      <th>month</th>\n",
       "      <th>trip_duration_sec</th>\n",
       "      <th>start_city_state</th>\n",
       "      <th>start_station_name</th>\n",
       "      <th>start_station_id</th>\n",
       "      <th>end_city_state</th>\n",
       "      <th>end_station_name</th>\n",
       "      <th>end_station_id</th>\n",
       "      <th>user_type</th>\n",
       "      <th>member_birth_year</th>\n",
       "      <th>member_gender</th>\n",
       "    </tr>\n",
       "  </thead>\n",
       "  <tbody>\n",
       "    <tr>\n",
       "      <th>0</th>\n",
       "      <td>4498</td>\n",
       "      <td>January</td>\n",
       "      <td>1661</td>\n",
       "      <td>Berkeley, CA</td>\n",
       "      <td>Fifth St at Delaware St</td>\n",
       "      <td>257</td>\n",
       "      <td>Berkeley, CA</td>\n",
       "      <td>College Ave at Alcatraz Ave</td>\n",
       "      <td>166</td>\n",
       "      <td>Subscriber</td>\n",
       "      <td>1989</td>\n",
       "      <td>Female</td>\n",
       "    </tr>\n",
       "    <tr>\n",
       "      <th>1</th>\n",
       "      <td>1117</td>\n",
       "      <td>January</td>\n",
       "      <td>1669</td>\n",
       "      <td>Berkeley, CA</td>\n",
       "      <td>Fifth St at Delaware St</td>\n",
       "      <td>257</td>\n",
       "      <td>Berkeley, CA</td>\n",
       "      <td>College Ave at Alcatraz Ave</td>\n",
       "      <td>166</td>\n",
       "      <td>Subscriber</td>\n",
       "      <td>1989</td>\n",
       "      <td>Female</td>\n",
       "    </tr>\n",
       "    <tr>\n",
       "      <th>2</th>\n",
       "      <td>5455</td>\n",
       "      <td>January</td>\n",
       "      <td>1337</td>\n",
       "      <td>Berkeley, CA</td>\n",
       "      <td>Fifth St at Delaware St</td>\n",
       "      <td>257</td>\n",
       "      <td>Berkeley, CA</td>\n",
       "      <td>College Ave at Alcatraz Ave</td>\n",
       "      <td>166</td>\n",
       "      <td>Customer</td>\n",
       "      <td>1995</td>\n",
       "      <td>Male</td>\n",
       "    </tr>\n",
       "    <tr>\n",
       "      <th>3</th>\n",
       "      <td>795</td>\n",
       "      <td>January</td>\n",
       "      <td>379</td>\n",
       "      <td>Berkeley, CA</td>\n",
       "      <td>Haste St at College Ave</td>\n",
       "      <td>253</td>\n",
       "      <td>Berkeley, CA</td>\n",
       "      <td>College Ave at Alcatraz Ave</td>\n",
       "      <td>166</td>\n",
       "      <td>Subscriber</td>\n",
       "      <td>1987</td>\n",
       "      <td>Female</td>\n",
       "    </tr>\n",
       "    <tr>\n",
       "      <th>4</th>\n",
       "      <td>4512</td>\n",
       "      <td>January</td>\n",
       "      <td>361</td>\n",
       "      <td>Berkeley, CA</td>\n",
       "      <td>Haste St at College Ave</td>\n",
       "      <td>253</td>\n",
       "      <td>Berkeley, CA</td>\n",
       "      <td>College Ave at Alcatraz Ave</td>\n",
       "      <td>166</td>\n",
       "      <td>Subscriber</td>\n",
       "      <td>1988</td>\n",
       "      <td>Male</td>\n",
       "    </tr>\n",
       "  </tbody>\n",
       "</table>\n",
       "</div>"
      ],
      "text/plain": [
       "   bike_id    month  trip_duration_sec start_city_state  \\\n",
       "0     4498  January               1661     Berkeley, CA   \n",
       "1     1117  January               1669     Berkeley, CA   \n",
       "2     5455  January               1337     Berkeley, CA   \n",
       "3      795  January                379     Berkeley, CA   \n",
       "4     4512  January                361     Berkeley, CA   \n",
       "\n",
       "        start_station_name  start_station_id end_city_state  \\\n",
       "0  Fifth St at Delaware St               257   Berkeley, CA   \n",
       "1  Fifth St at Delaware St               257   Berkeley, CA   \n",
       "2  Fifth St at Delaware St               257   Berkeley, CA   \n",
       "3  Haste St at College Ave               253   Berkeley, CA   \n",
       "4  Haste St at College Ave               253   Berkeley, CA   \n",
       "\n",
       "              end_station_name  end_station_id   user_type  member_birth_year  \\\n",
       "0  College Ave at Alcatraz Ave             166  Subscriber               1989   \n",
       "1  College Ave at Alcatraz Ave             166  Subscriber               1989   \n",
       "2  College Ave at Alcatraz Ave             166    Customer               1995   \n",
       "3  College Ave at Alcatraz Ave             166  Subscriber               1987   \n",
       "4  College Ave at Alcatraz Ave             166  Subscriber               1988   \n",
       "\n",
       "  member_gender  \n",
       "0        Female  \n",
       "1        Female  \n",
       "2          Male  \n",
       "3        Female  \n",
       "4          Male  "
      ]
     },
     "execution_count": 4,
     "metadata": {},
     "output_type": "execute_result"
    }
   ],
   "source": [
    "# Combine all bike data into a dataframe\n",
    "\n",
    "df = pd.concat((pd.read_csv(bike, header = 0) for bike in bike_data))\n",
    "df.head()"
   ]
  },
  {
   "cell_type": "code",
   "execution_count": 5,
   "id": "fb816481",
   "metadata": {},
   "outputs": [
    {
     "data": {
      "text/plain": [
       "Index(['bike_id', 'month', 'trip_duration_sec', 'start_city_state',\n",
       "       'start_station_name', 'start_station_id', 'end_city_state',\n",
       "       'end_station_name', 'end_station_id', 'user_type', 'member_birth_year',\n",
       "       'member_gender'],\n",
       "      dtype='object')"
      ]
     },
     "execution_count": 5,
     "metadata": {},
     "output_type": "execute_result"
    }
   ],
   "source": [
    "# Check column names\n",
    "\n",
    "df.columns"
   ]
  },
  {
   "cell_type": "code",
   "execution_count": 6,
   "id": "a5d1e851",
   "metadata": {},
   "outputs": [],
   "source": [
    "# Overwrite column with replaced value for month\n",
    "\n",
    "df[\"month\"] = df[\"month\"].replace(\"Februrary\", \"February\")"
   ]
  },
  {
   "cell_type": "code",
   "execution_count": 7,
   "id": "7fba7345",
   "metadata": {},
   "outputs": [
    {
     "data": {
      "text/plain": [
       "bike_id               0\n",
       "month                 0\n",
       "trip_duration_sec     0\n",
       "start_city_state      0\n",
       "start_station_name    0\n",
       "start_station_id      0\n",
       "end_city_state        0\n",
       "end_station_name      0\n",
       "end_station_id        0\n",
       "user_type             0\n",
       "member_birth_year     0\n",
       "member_gender         0\n",
       "dtype: int64"
      ]
     },
     "execution_count": 7,
     "metadata": {},
     "output_type": "execute_result"
    }
   ],
   "source": [
    "# Check for null values\n",
    "\n",
    "df.isnull().sum()"
   ]
  },
  {
   "cell_type": "code",
   "execution_count": null,
   "id": "f318dd26",
   "metadata": {},
   "outputs": [],
   "source": [
    "# Drop null values\n",
    "\n",
    "nan_value = float(\"NaN\")\n",
    "df.replace(\"\", nan_value, inplace = True)\n",
    "df.dropna(subset = [\"start_station_id\", \"start_station_name\", \"end_station_id\", \"end_station_name\", \"member_birth_year\", \"member_gender\"], inplace=True)\n",
    "df"
   ]
  }
 ],
 "metadata": {
  "kernelspec": {
   "display_name": "Python 3 (ipykernel)",
   "language": "python",
   "name": "python3"
  },
  "language_info": {
   "codemirror_mode": {
    "name": "ipython",
    "version": 3
   },
   "file_extension": ".py",
   "mimetype": "text/x-python",
   "name": "python",
   "nbconvert_exporter": "python",
   "pygments_lexer": "ipython3",
   "version": "3.9.7"
  }
 },
 "nbformat": 4,
 "nbformat_minor": 5
}
